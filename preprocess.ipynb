{
 "cells": [
  {
   "cell_type": "markdown",
   "metadata": {},
   "source": [
    "#### Load Images and Masks\n",
    "\n",
    "1. First, we need to load the images, masks, and metadata from their respective directories.\n",
    "2. Images : Each image is an angiogram in JPEG format.\n",
    "3. Masks : Each mask is a binary image, where white pixels (value 255) indicate the presence of an anomaly (stenosis or aneurysm).\n",
    "4. Metadata : The metadata.json file contains the coordinates of anomalies (stenosis and aneurysm) for each image."
   ]
  },
  {
   "cell_type": "code",
   "execution_count": 2,
   "metadata": {},
   "outputs": [],
   "source": [
    "import os\n",
    "import cv2\n",
    "import json\n",
    "import numpy as np\n",
    "\n",
    "image_dir = 'images'\n",
    "mask_dir = 'masks'\n",
    "metadata_file = 'metadata.json'\n",
    "\n",
    "# Load metadata\n",
    "with open(metadata_file, 'r') as f:\n",
    "    metadata = json.load(f)"
   ]
  },
  {
   "cell_type": "code",
   "execution_count": 3,
   "metadata": {},
   "outputs": [],
   "source": [
    "def load_and_preprocess_data(image_dir, mask_dir, metadata, target_size=(256, 256)):\n",
    "    images = []\n",
    "    masks = []\n",
    "    labels = []\n",
    "    \n",
    "    for entry in metadata:\n",
    "        image_id = entry[\"image_id\"]\n",
    "        image_path = os.path.join(image_dir, f\"{image_id}.jpg\")\n",
    "        mask_path = os.path.join(mask_dir, f\"{image_id}.png\")\n",
    "        \n",
    "        # Load image and mask\n",
    "        image = cv2.imread(image_path, cv2.IMREAD_GRAYSCALE)\n",
    "        mask = cv2.imread(mask_path, cv2.IMREAD_GRAYSCALE)\n",
    "        \n",
    "        if image is not None and mask is not None:\n",
    "            # Resize image and mask\n",
    "            image_resized = cv2.resize(image, target_size, interpolation=cv2.INTER_AREA)\n",
    "            mask_resized = cv2.resize(mask, target_size, interpolation=cv2.INTER_NEAREST)\n",
    "            \n",
    "            # Normalize image\n",
    "            image_normalized = image_resized / 255.0\n",
    "            \n",
    "            # Append data\n",
    "            images.append(image_normalized)\n",
    "            masks.append(mask_resized)\n",
    "            \n",
    "            # Label based on aneurysm presence\n",
    "            anomalies = entry[\"anomalies\"][\"aneurysm\"]\n",
    "            if anomalies:\n",
    "                labels.append(1)  # Aneurysm present\n",
    "            else:\n",
    "                labels.append(0)  # No aneurysm\n",
    "    \n",
    "    return np.array(images), np.array(masks), np.array(labels)\n"
   ]
  },
  {
   "cell_type": "code",
   "execution_count": 4,
   "metadata": {},
   "outputs": [],
   "source": [
    "from sklearn.model_selection import train_test_split\n",
    "# Load and preprocess data\n",
    "images, masks, labels = load_and_preprocess_data(image_dir, mask_dir, metadata, target_size=(256, 256))\n",
    "\n",
    "# Split data into training and validation sets\n",
    "X_train, X_val, y_train, y_val = train_test_split(images, labels, test_size=0.2, random_state=42)"
   ]
  },
  {
   "cell_type": "code",
   "execution_count": 5,
   "metadata": {},
   "outputs": [
    {
     "name": "stdout",
     "output_type": "stream",
     "text": [
      "Training images shape: (334, 256, 256)\n",
      "Validation images shape: (84, 256, 256)\n"
     ]
    }
   ],
   "source": [
    "# Print the shapes of the datasets\n",
    "print(f\"Training images shape: {X_train.shape}\")\n",
    "print(f\"Validation images shape: {X_val.shape}\")"
   ]
  },
  {
   "cell_type": "code",
   "execution_count": 6,
   "metadata": {},
   "outputs": [
    {
     "name": "stdout",
     "output_type": "stream",
     "text": [
      "Training labels shape: (334,)\n",
      "Validation labels shape: (84,)\n"
     ]
    }
   ],
   "source": [
    "print(f\"Training labels shape: {y_train.shape}\")\n",
    "print(f\"Validation labels shape: {y_val.shape}\")"
   ]
  },
  {
   "cell_type": "code",
   "execution_count": 7,
   "metadata": {},
   "outputs": [],
   "source": [
    "import numpy as np\n",
    "\n",
    "np.save('X_train.npy', X_train)\n",
    "np.save('y_train.npy', y_train)\n",
    "np.save('X_val.npy', X_val)\n",
    "np.save('y_val.npy', y_val)"
   ]
  },
  {
   "cell_type": "code",
   "execution_count": null,
   "metadata": {},
   "outputs": [],
   "source": []
  }
 ],
 "metadata": {
  "kernelspec": {
   "display_name": "aneurysm",
   "language": "python",
   "name": "python3"
  },
  "language_info": {
   "codemirror_mode": {
    "name": "ipython",
    "version": 3
   },
   "file_extension": ".py",
   "mimetype": "text/x-python",
   "name": "python",
   "nbconvert_exporter": "python",
   "pygments_lexer": "ipython3",
   "version": "3.11.0"
  }
 },
 "nbformat": 4,
 "nbformat_minor": 2
}
